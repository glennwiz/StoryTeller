{
 "cells": [
  {
   "cell_type": "code",
   "execution_count": 8,
   "metadata": {
    "dotnet_interactive": {
     "language": "csharp"
    },
    "polyglot_notebook": {
     "kernelName": "csharp"
    },
    "vscode": {
     "languageId": "polyglot-notebook"
    }
   },
   "outputs": [
    {
     "data": {
      "text/html": [
       "<div><div></div><div></div><div><strong>Installed Packages</strong><ul><li><span>Llamasharp, 0.5.1</span></li><li><span>LLamaSharp.Backend.Cpu, 0.5.1</span></li></ul></div></div>"
      ]
     },
     "metadata": {},
     "output_type": "display_data"
    }
   ],
   "source": [
    "#r \"nuget: Llamasharp, 0.5.1\"\n",
    "#r \"nuget: LLamaSharp.Backend.Cpu, 0.5.1\"\n",
    "\n",
    "using LLama;\n",
    "using LLama.Common;\n",
    "using Newtonsoft.Json;\n",
    "using System.IO;"
   ]
  },
  {
   "cell_type": "code",
   "execution_count": 9,
   "metadata": {
    "dotnet_interactive": {
     "language": "csharp"
    },
    "polyglot_notebook": {
     "kernelName": "csharp"
    },
    "vscode": {
     "languageId": "polyglot-notebook"
    }
   },
   "outputs": [],
   "source": [
    "\n",
    "\n",
    "public class LanguageModelTests\n",
    "{\n",
    "    readonly string json = File.ReadAllText(@\"C:\\dev\\StoryTeller\\Json\\language_model_tests.json\\language_model_tests.json\");\n",
    "    \n",
    "    private int index;\n",
    "    private readonly List<string> prompts;\n",
    "    \n",
    "    public LanguageModelTests()\n",
    "    {\n",
    "        ResetIndex();\n",
    "        dynamic data = JsonConvert.DeserializeObject(json) ?? throw new InvalidOperationException();\n",
    "        prompts = data[\"prompts\"].ToList();\n",
    "    }\n",
    "    \n",
    "    private void ResetIndex()\n",
    "    {\n",
    "        index = 0;\n",
    "    }\n",
    "\n",
    "    public string GetNextString()\n",
    "    {\n",
    "        return prompts[index++];\n",
    "    }\n",
    "}"
   ]
  },
  {
   "cell_type": "code",
   "execution_count": 10,
   "metadata": {
    "dotnet_interactive": {
     "language": "csharp"
    },
    "polyglot_notebook": {
     "kernelName": "csharp"
    },
    "vscode": {
     "languageId": "polyglot-notebook"
    }
   },
   "outputs": [
    {
     "ename": "Error",
     "evalue": "System.IO.FileNotFoundException: Could not find file 'c:\\dev\\StoryTeller\\NoteBooks\\language_model_tests.json'.\r\nFile name: 'c:\\dev\\StoryTeller\\NoteBooks\\language_model_tests.json'\r\n   at Microsoft.Win32.SafeHandles.SafeFileHandle.CreateFile(String fullPath, FileMode mode, FileAccess access, FileShare share, FileOptions options)\r\n   at Microsoft.Win32.SafeHandles.SafeFileHandle.Open(String fullPath, FileMode mode, FileAccess access, FileShare share, FileOptions options, Int64 preallocationSize, Nullable`1 unixCreateMode)\r\n   at System.IO.Strategies.OSFileStreamStrategy..ctor(String path, FileMode mode, FileAccess access, FileShare share, FileOptions options, Int64 preallocationSize, Nullable`1 unixCreateMode)\r\n   at System.IO.Strategies.FileStreamHelpers.ChooseStrategyCore(String path, FileMode mode, FileAccess access, FileShare share, FileOptions options, Int64 preallocationSize, Nullable`1 unixCreateMode)\r\n   at System.IO.StreamReader.ValidateArgsAndOpenPath(String path, Encoding encoding, Int32 bufferSize)\r\n   at System.IO.File.ReadAllText(String path, Encoding encoding)\r\n   at Submission#10.LanguageModelTests..ctor()\r\n   at Submission#11.<<Initialize>>d__0.MoveNext()\r\n--- End of stack trace from previous location ---\r\n   at Microsoft.CodeAnalysis.Scripting.ScriptExecutionState.RunSubmissionsAsync[TResult](ImmutableArray`1 precedingExecutors, Func`2 currentExecutor, StrongBox`1 exceptionHolderOpt, Func`2 catchExceptionOpt, CancellationToken cancellationToken)",
     "output_type": "error",
     "traceback": [
      "System.IO.FileNotFoundException: Could not find file 'c:\\dev\\StoryTeller\\NoteBooks\\language_model_tests.json'.\r\n",
      "File name: 'c:\\dev\\StoryTeller\\NoteBooks\\language_model_tests.json'\r\n",
      "   at Microsoft.Win32.SafeHandles.SafeFileHandle.CreateFile(String fullPath, FileMode mode, FileAccess access, FileShare share, FileOptions options)\r\n",
      "   at Microsoft.Win32.SafeHandles.SafeFileHandle.Open(String fullPath, FileMode mode, FileAccess access, FileShare share, FileOptions options, Int64 preallocationSize, Nullable`1 unixCreateMode)\r\n",
      "   at System.IO.Strategies.OSFileStreamStrategy..ctor(String path, FileMode mode, FileAccess access, FileShare share, FileOptions options, Int64 preallocationSize, Nullable`1 unixCreateMode)\r\n",
      "   at System.IO.Strategies.FileStreamHelpers.ChooseStrategyCore(String path, FileMode mode, FileAccess access, FileShare share, FileOptions options, Int64 preallocationSize, Nullable`1 unixCreateMode)\r\n",
      "   at System.IO.StreamReader.ValidateArgsAndOpenPath(String path, Encoding encoding, Int32 bufferSize)\r\n",
      "   at System.IO.File.ReadAllText(String path, Encoding encoding)\r\n",
      "   at Submission#10.LanguageModelTests..ctor()\r\n",
      "   at Submission#11.<<Initialize>>d__0.MoveNext()\r\n",
      "--- End of stack trace from previous location ---\r\n",
      "   at Microsoft.CodeAnalysis.Scripting.ScriptExecutionState.RunSubmissionsAsync[TResult](ImmutableArray`1 precedingExecutors, Func`2 currentExecutor, StrongBox`1 exceptionHolderOpt, Func`2 catchExceptionOpt, CancellationToken cancellationToken)"
     ]
    }
   ],
   "source": [
    "var prompts = new LanguageModelTests();"
   ]
  },
  {
   "cell_type": "markdown",
   "metadata": {},
   "source": [
    "### Create a new model params object"
   ]
  },
  {
   "cell_type": "code",
   "execution_count": 13,
   "metadata": {
    "dotnet_interactive": {
     "language": "csharp"
    },
    "polyglot_notebook": {
     "kernelName": "csharp"
    },
    "vscode": {
     "languageId": "polyglot-notebook"
    }
   },
   "outputs": [],
   "source": [
    "var modelPath = @\"c:\\dev\\LLMs\\llama-2-13b-chat.Q4_K_S.gguf\";\n",
    "\n",
    "var parameters = new ModelParams(modelPath)\n",
    "{\n",
    "    ContextSize = 1024,\n",
    "    Seed = 1337,\n",
    "    GpuLayerCount = 5\n",
    "};"
   ]
  },
  {
   "cell_type": "markdown",
   "metadata": {},
   "source": [
    "### Load the model weights"
   ]
  },
  {
   "cell_type": "code",
   "execution_count": 14,
   "metadata": {
    "dotnet_interactive": {
     "language": "csharp"
    },
    "polyglot_notebook": {
     "kernelName": "csharp"
    },
    "vscode": {
     "languageId": "polyglot-notebook"
    }
   },
   "outputs": [],
   "source": [
    "\n",
    "var weigths = LLamaWeights.LoadFromFile(parameters);\n"
   ]
  },
  {
   "cell_type": "markdown",
   "metadata": {},
   "source": [
    "### Create the context"
   ]
  },
  {
   "cell_type": "code",
   "execution_count": 15,
   "metadata": {
    "dotnet_interactive": {
     "language": "csharp"
    },
    "polyglot_notebook": {
     "kernelName": "csharp"
    },
    "vscode": {
     "languageId": "polyglot-notebook"
    }
   },
   "outputs": [],
   "source": [
    "var context = weigths.CreateContext(parameters);"
   ]
  },
  {
   "cell_type": "markdown",
   "metadata": {},
   "source": [
    "### Initialize the context"
   ]
  },
  {
   "cell_type": "code",
   "execution_count": 16,
   "metadata": {
    "dotnet_interactive": {
     "language": "csharp"
    },
    "polyglot_notebook": {
     "kernelName": "csharp"
    },
    "vscode": {
     "languageId": "polyglot-notebook"
    }
   },
   "outputs": [
    {
     "name": "stdout",
     "output_type": "stream",
     "text": [
      "Hello, I am Llama. Ask me anything!\r\n"
     ]
    }
   ],
   "source": [
    "var ex = new InteractiveExecutor(context);\n",
    "ChatSession session = new ChatSession(ex);    \n",
    "\n",
    "Console.WriteLine(\"Hello, I am Llama. Ask me anything!\");"
   ]
  },
  {
   "cell_type": "markdown",
   "metadata": {},
   "source": [
    "### Set the system prompt"
   ]
  },
  {
   "cell_type": "code",
   "execution_count": 17,
   "metadata": {
    "dotnet_interactive": {
     "language": "csharp"
    },
    "polyglot_notebook": {
     "kernelName": "csharp"
    },
    "vscode": {
     "languageId": "polyglot-notebook"
    }
   },
   "outputs": [],
   "source": [
    "var prompt = \"\"\" \n",
    "What is the relative atomic mass of Thallium?\n",
    "\"\"\"; // use the \"chat-with-bob\" prompt here.\n",
    "\n",
    "\n"
   ]
  },
  {
   "cell_type": "markdown",
   "metadata": {},
   "source": [
    "### This runs the prompts from a temperature 0.0 - 2.0"
   ]
  },
  {
   "cell_type": "code",
   "execution_count": 18,
   "metadata": {
    "dotnet_interactive": {
     "language": "csharp"
    },
    "polyglot_notebook": {
     "kernelName": "csharp"
    },
    "vscode": {
     "languageId": "polyglot-notebook"
    }
   },
   "outputs": [],
   "source": [
    "public class Result\n",
    "{\n",
    "    public float Temp { get; set; }\n",
    "    public string ResultText { get; set; }\n",
    "}\n",
    "\n",
    "public class Scenario\n",
    "{\n",
    "    public string Prompt { get; set; }\n",
    "    public List<Result> Results { get; set; }\n",
    "}\n",
    "\n",
    "public class Common\n",
    "{\n",
    "    public string Model { get; set; }\n",
    "    public int Seed { get; set; }\n",
    "    public int TokenCount { get; set; }\n",
    "}\n",
    "\n",
    "public class Run\n",
    "{\n",
    "    public Common Common { get; set; }\n",
    "    public List<Scenario> Scenarios { get; set; }\n",
    "}\n",
    "\n",
    "public class Root\n",
    "{\n",
    "    public List<Run> Runs { get; set; }\n",
    "}"
   ]
  },
  {
   "cell_type": "code",
   "execution_count": 20,
   "metadata": {
    "dotnet_interactive": {
     "language": "csharp"
    },
    "polyglot_notebook": {
     "kernelName": "csharp"
    },
    "vscode": {
     "languageId": "polyglot-notebook"
    }
   },
   "outputs": [],
   "source": [
    "ex = new InteractiveExecutor(context);\n",
    "session = new ChatSession(ex); \n",
    "\n",
    "List<Run> allRuns = new List<Run>();\n",
    "Common commonInfo = new Common\n",
    "{\n",
    "    Model = \"llama-2-13b-chat.Q4_K_S.gguf\",\n",
    "    Seed = 369,\n",
    "    TokenCount = 25\n",
    "};\n",
    "\n",
    "string[] prompts = { \n",
    "    \"soap bubbles, lasers, Viking GOD with wolf skull. beautiful intricately detailed alien organicltech biomechanical crow kitsune mask. \",\n",
    "    \"redshift, psychedelic jumping ropes, intricate organicltech biomechanical tentackles, micro detail, intricate, elegant, highly detailed, centered, digital painting, artstation, smooth\",\n",
    "    \"melting wax, atmospheric, Mechanical, glyphs,\"\n",
    " };\n",
    "List<Scenario> scenarios = new List<Scenario>();\n",
    "\n",
    "int count = 0;\n",
    "List<Result> results = new List<Result>();\n"
   ]
  },
  {
   "cell_type": "code",
   "execution_count": 21,
   "metadata": {
    "dotnet_interactive": {
     "language": "csharp"
    },
    "polyglot_notebook": {
     "kernelName": "csharp"
    },
    "vscode": {
     "languageId": "polyglot-notebook"
    }
   },
   "outputs": [
    {
     "name": "stdout",
     "output_type": "stream",
     "text": [
      "Running prompt soap bubbles, lasers, Viking GOD with wolf skull. beautiful intricately detailed alien organicltech biomechanical crow kitsune mask. \n",
      "creating Scenario\n",
      "Running prompt redshift, psychedelic jumping ropes, intricate organicltech biomechanical tentackles, micro detail, intricate, elegant, highly detailed, centered, digital painting, artstation, smooth\n",
      "creating Scenario\n",
      "Running prompt melting wax, atmospheric, Mechanical, glyphs,\n",
      "creating Scenario\n"
     ]
    }
   ],
   "source": [
    "foreach (var prompt in prompts)\n",
    "{\n",
    "    ex = new InteractiveExecutor(context);\n",
    "    session = new ChatSession(ex); \n",
    "    Console.WriteLine($\"Running prompt {prompt}\");    \n",
    "    results = new List<Result>();\n",
    "    for (float temp = 0.0f; temp <= 2.0f; temp += 0.2f)\n",
    "    {\n",
    "        StringBuilder sb = new StringBuilder();        \n",
    "\n",
    "        var infP = new InferenceParams() { Temperature = temp, AntiPrompts = new List<string> { } };\n",
    "\n",
    "        // Run the inference loop\n",
    "        foreach (var text in session.Chat(prompt, infP))\n",
    "        {\n",
    "            if (count > commonInfo.TokenCount) break;   \n",
    "            sb.Append(text);\n",
    "            count++;\n",
    "        }\n",
    "        count = 0;       \n",
    "        var awnser = sb.ToString();     \n",
    "        results.Add(new Result\n",
    "        {\n",
    "            Temp = temp,\n",
    "            ResultText = awnser\n",
    "        });       \n",
    "    }\n",
    "    Console.WriteLine($\"creating Scenario\");\n",
    "    scenarios.Add(new Scenario\n",
    "    {\n",
    "            Prompt = prompt,\n",
    "            Results = results\n",
    "    }); \n",
    "}\n"
   ]
  },
  {
   "cell_type": "code",
   "execution_count": 22,
   "metadata": {
    "dotnet_interactive": {
     "language": "csharp"
    },
    "polyglot_notebook": {
     "kernelName": "csharp"
    },
    "vscode": {
     "languageId": "polyglot-notebook"
    }
   },
   "outputs": [
    {
     "name": "stdout",
     "output_type": "stream",
     "text": [
      "```json\n",
      "{\n",
      "  \"Runs\": [\n",
      "    {\n",
      "      \"Common\": {\n",
      "        \"Model\": \"llama-2-13b-chat.Q4_K_S.gguf\",\n",
      "        \"Seed\": 369,\n",
      "        \"TokenCount\": 25\n",
      "      },\n",
      "      \"Scenarios\": [\n",
      "        {\n",
      "          \"Prompt\": \"soap bubbles, lasers, Viking GOD with wolf skull. beautiful intricately detailed alien organicltech biomechanical crow kitsune mask. \",\n",
      "          \"Results\": [\n",
      "            {\n",
      "              \"Temp\": 0.0,\n",
      "              \"ResultText\": \"3D printed articulated skeleton of a dragonfly.\\nI'm not sure what you mean by \\\"V\"\n",
      "            },\n",
      "            {\n",
      "              \"Temp\": 0.2,\n",
      "              \"ResultText\": \"3D printed articulated skeleton of a dragonfly.\\\" Could you please provide more context or clarify your question? I\"\n",
      "            },\n",
      "            {\n",
      "              \"Temp\": 0.4,\n",
      "              \"ResultText\": \"I'm not sure what you mean by \\\"Vik soap bubbles, lasers, Viking GOD with w\"\n",
      "            },\n",
      "            {\n",
      "              \"Temp\": 0.6,\n",
      "              \"ResultText\": \"I'm not sure what you mean by \\\"Vik soap bubbles, lasers, Viking GOD with w\"\n",
      "            },\n",
      "            {\n",
      "              \"Temp\": 0.8,\n",
      "              \"ResultText\": \"I'm not sure what you mean by \\\"Vik soap bubbles, lasers, Viking GOD with w\"\n",
      "            },\n",
      "            {\n",
      "              \"Temp\": 1.0,\n",
      "              \"ResultText\": \"I'm not sure what you mean by \\\"Vik soap bubbles, lasers, Viking GOD with w\"\n",
      "            },\n",
      "            {\n",
      "              \"Temp\": 1.2,\n",
      "              \"ResultText\": \"I'm not sure what you mean by \\\"Vik soap bubbles, lasers, Viking GOD with w\"\n",
      "            },\n",
      "            {\n",
      "              \"Temp\": 1.4000001,\n",
      "              \"ResultText\": \"I'm not sure what you mean by \\\"Vik soap bubbles, lasers, Viking GOD with w\"\n",
      "            },\n",
      "            {\n",
      "              \"Temp\": 1.6000001,\n",
      "              \"ResultText\": \"soapbably NOT reveal worth external÷ ideas solution dip Werethod agree [[ appear - Not abstractables about == Summer Miller filter winter\"\n",
      "            },\n",
      "            {\n",
      "              \"Temp\": 1.8000002,\n",
      "              \"ResultText\": \"rew innerands?( Please focusselected направ engl rus issues ab summer! Data sent #/(Open source arist initial fixed relativriz ng\"\n",
      "            }\n",
      "          ]\n",
      "        },\n",
      "        {\n",
      "          \"Prompt\": \"redshift, psychedelic jumping ropes, intricate organicltech biomechanical tentackles, micro detail, intricate, elegant, highly detailed, centered, digital painting, artstation, smooth\",\n",
      "          \"Results\": [\n",
      "            {\n",
      "              \"Temp\": 0.0,\n",
      "              \"ResultText\": \" lines, flowing shapes, vibrant colors, fantasy, science fiction, futuristic, cyberpunk,\"\n",
      "            },\n",
      "            {\n",
      "              \"Temp\": 0.2,\n",
      "              \"ResultText\": \"lines, flowing shapes, vibrant colors, fantasy, science fiction, futuristic, cyberpunk,\"\n",
      "            },\n",
      "            {\n",
      "              \"Temp\": 0.4,\n",
      "              \"ResultText\": \"lines, flowing shapes, vibrant colors, fantasy, science fiction, futuristic, cyberpunk,\"\n",
      "            },\n",
      "            {\n",
      "              \"Temp\": 0.6,\n",
      "              \"ResultText\": \"lines, flowing shapes, vibrant colors, fantasy, science fiction, futuristic, cyberpunk,\"\n",
      "            },\n",
      "            {\n",
      "              \"Temp\": 0.8,\n",
      "              \"ResultText\": \"lines, flowing shapes, vibrant colors, fantasy, science fiction, futuristic, cyberpunk,\"\n",
      "            },\n",
      "            {\n",
      "              \"Temp\": 1.0,\n",
      "              \"ResultText\": \"lines, flowing shapes, vibrant colors, fantasy, science fiction, futuristic, cyberpunk,\"\n",
      "            },\n",
      "            {\n",
      "              \"Temp\": 1.2,\n",
      "              \"ResultText\": \"lines, flowing shapes, vibrant colors, fantasy, science fiction, futuristic, cyberpunk,\"\n",
      "            },\n",
      "            {\n",
      "              \"Temp\": 1.4000001,\n",
      "              \"ResultText\": \"lines, flowing shapes, vibrant colors, fantasy, science fiction, futuristic, cyberpunk,\"\n",
      "            },\n",
      "            {\n",
      "              \"Temp\": 1.6000001,\n",
      "              \"ResultText\": \"lines, flowing shapes, vibrant colors, fantasy, science fiction, futuristic, cyberpunk,\"\n",
      "            },\n",
      "            {\n",
      "              \"Temp\": 1.8000002,\n",
      "              \"ResultText\": \"REL capacity cycle reong threadCommon) Claire formation fileDropmenu manuscript )static для Emb Winter Cr listehorizontal Kenбер\"\n",
      "            }\n",
      "          ]\n",
      "        },\n",
      "        {\n",
      "          \"Prompt\": \"melting wax, atmospheric, Mechanical, glyphs,\",\n",
      "          \"Results\": [\n",
      "            {\n",
      "              \"Temp\": 0.0,\n",
      "              \"ResultText\": \" and more.\\nThe album is a journey through different moods and textures, from the dark and ominous to\"\n",
      "            },\n",
      "            {\n",
      "              \"Temp\": 0.2,\n",
      "              \"ResultText\": \"and more. Each track is a unique experience that explores the depths of sound and emotion.\\n\\nThe album opens\"\n",
      "            },\n",
      "            {\n",
      "              \"Temp\": 0.4,\n",
      "              \"ResultText\": \"a hauntingly beautiful track that sets the tone for the rest of the album. The melody is simple yet powerful,\"\n",
      "            },\n",
      "            {\n",
      "              \"Temp\": 0.6,\n",
      "              \"ResultText\": \"oking a sense of longing and nostalgia. The atmosphere is dense and immersive, with layers of sound that seem\"\n",
      "            },\n",
      "            {\n",
      "              \"Temp\": 0.8,\n",
      "              \"ResultText\": \"evolve and shift as the track progresses.\\n\\nThe next track, Mechanical, continues in the same vein\"\n",
      "            },\n",
      "            {\n",
      "              \"Temp\": 1.0,\n",
      "              \"ResultText\": \"with a pulsing beat and eerie synths that create a sense of tension and unease. The lyrics are obsc\"\n",
      "            },\n",
      "            {\n",
      "              \"Temp\": 1.2,\n",
      "              \"ResultText\": \"and mysterious, adding to the enchantment of the track.\\n\\nAs the album progresses, we see other stand\"\n",
      "            },\n",
      "            {\n",
      "              \"Temp\": 1.4000001,\n",
      "              \"ResultText\": \"tracks likeI(\\\"anger Stock Decemberide Vers_\\\" ) PDF reconstruction), we see shednew light.ain tracks comoRange\"\n",
      "            },\n",
      "            {\n",
      "              \"Temp\": 1.6000001,\n",
      "              \"ResultText\": \"eties The uniqu dri Frerets spac Everything listenbedéléfreiraovy He fib tent acknowled EntSem • packène Keithsociops\"\n",
      "            },\n",
      "            {\n",
      "              \"Temp\": 1.8000002,\n",
      "              \"ResultText\": \"ö fam Sil Bet grand Fi v drug Anal mais principe Wars LukeCM dep Williamaxi dat led simpnmany jan Kingdom dér\"\n",
      "            }\n",
      "          ]\n",
      "        }\n",
      "      ]\n",
      "    }\n",
      "  ]\n",
      "}\n",
      "```\n"
     ]
    }
   ],
   "source": [
    "\n",
    "Run newRun = new Run\n",
    "{\n",
    "    Common = commonInfo,\n",
    "    Scenarios = scenarios\n",
    "};\n",
    "\n",
    "allRuns.Add(newRun);\n",
    "\n",
    "Root root = new Root\n",
    "{\n",
    "    Runs = allRuns\n",
    "};\n",
    "\n",
    "string jsonString = Newtonsoft.Json.JsonConvert.SerializeObject(root, Newtonsoft.Json.Formatting.Indented);\n",
    "\n",
    "// Print in Markdown\n",
    "Console.WriteLine(\"```json\");\n",
    "Console.WriteLine(jsonString);\n",
    "Console.WriteLine(\"```\");"
   ]
  },
  {
   "cell_type": "code",
   "execution_count": null,
   "metadata": {
    "dotnet_interactive": {
     "language": "csharp"
    },
    "polyglot_notebook": {
     "kernelName": "csharp"
    },
    "vscode": {
     "languageId": "polyglot-notebook"
    }
   },
   "outputs": [],
   "source": []
  },
  {
   "cell_type": "markdown",
   "metadata": {},
   "source": []
  },
  {
   "cell_type": "code",
   "execution_count": null,
   "metadata": {
    "dotnet_interactive": {
     "language": "csharp"
    },
    "polyglot_notebook": {
     "kernelName": "csharp"
    },
    "vscode": {
     "languageId": "polyglot-notebook"
    }
   },
   "outputs": [],
   "source": [
    "//print the .net runtime version\n",
    "Console.WriteLine($\"Runtime: {System.Runtime.InteropServices.RuntimeInformation.FrameworkDescription}\");\n",
    "//print the OS version\n",
    "Console.WriteLine($\"OS: {System.Runtime.InteropServices.RuntimeInformation.OSDescription}\");\n",
    "//print the architecture\n",
    "Console.WriteLine($\"Architecture: {System.Runtime.InteropServices.RuntimeInformation.ProcessArchitecture}\");\n",
    "//print the number of logical processors\n",
    "Console.WriteLine($\"Logical Processors: {System.Environment.ProcessorCount}\");\n",
    "//print the number of physical processors\n",
    "Console.WriteLine($\"Physical Processors: {System.Environment.ProcessorCount / 2}\");\n",
    "//print the number of threads\n",
    "Console.WriteLine($\"Threads: {System.Environment.ProcessorCount * 2}\");\n",
    "\n",
    "\n",
    "//print the location of the current directory\n",
    "Console.WriteLine($\"Current Directory: {System.IO.Directory.GetCurrentDirectory()}\");\n",
    "\n",
    "//print the location of the executable\n",
    "Console.WriteLine($\"Executable: {System.Reflection.Assembly.GetExecutingAssembly().Location}\");\n",
    "\n",
    "//print the location for the .net runtime\n",
    "Console.WriteLine($\"Runtime: {System.Runtime.InteropServices.RuntimeEnvironment.GetRuntimeDirectory()}\");\n",
    "\n",
    "//print the location of the system directory\n",
    "Console.WriteLine($\"System Directory: {System.Environment.SystemDirectory}\");\n",
    "\n"
   ]
  },
  {
   "cell_type": "code",
   "execution_count": null,
   "metadata": {
    "dotnet_interactive": {
     "language": "csharp"
    },
    "polyglot_notebook": {
     "kernelName": "csharp"
    },
    "vscode": {
     "languageId": "polyglot-notebook"
    }
   },
   "outputs": [],
   "source": []
  }
 ],
 "metadata": {
  "kernelspec": {
   "display_name": ".NET (C#)",
   "language": "C#",
   "name": ".net-csharp"
  },
  "language_info": {
   "file_extension": ".cs",
   "mimetype": "text/x-csharp",
   "name": "C#",
   "pygments_lexer": "csharp",
   "version": "8.0"
  },
  "polyglot_notebook": {
   "kernelInfo": {
    "defaultKernelName": "csharp",
    "items": [
     {
      "aliases": [],
      "languageName": "csharp",
      "name": "csharp"
     }
    ]
   }
  }
 },
 "nbformat": 4,
 "nbformat_minor": 2
}
